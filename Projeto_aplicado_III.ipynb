{
 "cells": [
  {
   "cell_type": "markdown",
   "id": "67ea2211-2201-4f2b-8361-2b1409293edb",
   "metadata": {},
   "source": [
    "# Sistema de Recomendacao de Jogos\n",
    "## Carregamento de dados"
   ]
  },
  {
   "cell_type": "code",
   "execution_count": null,
   "id": "6fc9d60d-ef8d-485d-b1d4-c64a4efb1ef7",
   "metadata": {
    "scrolled": true
   },
   "outputs": [],
   "source": [
    "import pandas as pd\n",
    "df = pd.read_json('.../Projeto_Aplicado_III/australian_users_items_fixed.json')"
   ]
  },
  {
   "cell_type": "markdown",
   "id": "9a4bf739-bd5d-4efa-8c73-0b05b6274744",
   "metadata": {},
   "source": [
    "## Pre-processamento de Dados"
   ]
  },
  {
   "cell_type": "code",
   "execution_count": 4,
   "id": "7664b1f3-556b-4d03-9911-614fc2b89125",
   "metadata": {},
   "outputs": [
    {
     "data": {
      "text/html": [
       "<div>\n",
       "<style scoped>\n",
       "    .dataframe tbody tr th:only-of-type {\n",
       "        vertical-align: middle;\n",
       "    }\n",
       "\n",
       "    .dataframe tbody tr th {\n",
       "        vertical-align: top;\n",
       "    }\n",
       "\n",
       "    .dataframe thead th {\n",
       "        text-align: right;\n",
       "    }\n",
       "</style>\n",
       "<table border=\"1\" class=\"dataframe\">\n",
       "  <thead>\n",
       "    <tr style=\"text-align: right;\">\n",
       "      <th></th>\n",
       "      <th>item_name</th>\n",
       "      <th>playtime_forever</th>\n",
       "    </tr>\n",
       "  </thead>\n",
       "  <tbody>\n",
       "    <tr>\n",
       "      <th>0</th>\n",
       "      <td>Counter-Strike</td>\n",
       "      <td>6.0</td>\n",
       "    </tr>\n",
       "    <tr>\n",
       "      <th>1</th>\n",
       "      <td>Team Fortress Classic</td>\n",
       "      <td>0.0</td>\n",
       "    </tr>\n",
       "    <tr>\n",
       "      <th>2</th>\n",
       "      <td>Day of Defeat</td>\n",
       "      <td>7.0</td>\n",
       "    </tr>\n",
       "    <tr>\n",
       "      <th>3</th>\n",
       "      <td>Deathmatch Classic</td>\n",
       "      <td>0.0</td>\n",
       "    </tr>\n",
       "    <tr>\n",
       "      <th>4</th>\n",
       "      <td>Half-Life: Opposing Force</td>\n",
       "      <td>0.0</td>\n",
       "    </tr>\n",
       "  </tbody>\n",
       "</table>\n",
       "</div>"
      ],
      "text/plain": [
       "                   item_name  playtime_forever\n",
       "0             Counter-Strike               6.0\n",
       "1      Team Fortress Classic               0.0\n",
       "2              Day of Defeat               7.0\n",
       "3         Deathmatch Classic               0.0\n",
       "4  Half-Life: Opposing Force               0.0"
      ]
     },
     "execution_count": 4,
     "metadata": {},
     "output_type": "execute_result"
    }
   ],
   "source": [
    "df = df.explode('items').reset_index(drop=True)\n",
    "items = df[\"items\"].tolist()\n",
    "df.drop(columns=['items'], inplace = True)\n",
    "items = [item  if type(item) == dict else {} for item in items] \n",
    "items_df = pd.DataFrame(items)\n",
    "items_df.drop(columns=['playtime_2weeks', 'item_id'], inplace = True)\n",
    "items_df.head()"
   ]
  },
  {
   "cell_type": "code",
   "execution_count": 5,
   "id": "7bea827b-7034-4bbe-9abf-26b6d1c03802",
   "metadata": {},
   "outputs": [
    {
     "data": {
      "text/html": [
       "<div>\n",
       "<style scoped>\n",
       "    .dataframe tbody tr th:only-of-type {\n",
       "        vertical-align: middle;\n",
       "    }\n",
       "\n",
       "    .dataframe tbody tr th {\n",
       "        vertical-align: top;\n",
       "    }\n",
       "\n",
       "    .dataframe thead th {\n",
       "        text-align: right;\n",
       "    }\n",
       "</style>\n",
       "<table border=\"1\" class=\"dataframe\">\n",
       "  <thead>\n",
       "    <tr style=\"text-align: right;\">\n",
       "      <th></th>\n",
       "      <th>user_id</th>\n",
       "      <th>item_name</th>\n",
       "      <th>playtime_forever</th>\n",
       "    </tr>\n",
       "  </thead>\n",
       "  <tbody>\n",
       "    <tr>\n",
       "      <th>0</th>\n",
       "      <td>76561197970982479</td>\n",
       "      <td>Counter-Strike</td>\n",
       "      <td>6.0</td>\n",
       "    </tr>\n",
       "    <tr>\n",
       "      <th>1</th>\n",
       "      <td>76561197970982479</td>\n",
       "      <td>Team Fortress Classic</td>\n",
       "      <td>0.0</td>\n",
       "    </tr>\n",
       "    <tr>\n",
       "      <th>2</th>\n",
       "      <td>76561197970982479</td>\n",
       "      <td>Day of Defeat</td>\n",
       "      <td>7.0</td>\n",
       "    </tr>\n",
       "    <tr>\n",
       "      <th>3</th>\n",
       "      <td>76561197970982479</td>\n",
       "      <td>Deathmatch Classic</td>\n",
       "      <td>0.0</td>\n",
       "    </tr>\n",
       "    <tr>\n",
       "      <th>4</th>\n",
       "      <td>76561197970982479</td>\n",
       "      <td>Half-Life: Opposing Force</td>\n",
       "      <td>0.0</td>\n",
       "    </tr>\n",
       "  </tbody>\n",
       "</table>\n",
       "</div>"
      ],
      "text/plain": [
       "             user_id                  item_name  playtime_forever\n",
       "0  76561197970982479             Counter-Strike               6.0\n",
       "1  76561197970982479      Team Fortress Classic               0.0\n",
       "2  76561197970982479              Day of Defeat               7.0\n",
       "3  76561197970982479         Deathmatch Classic               0.0\n",
       "4  76561197970982479  Half-Life: Opposing Force               0.0"
      ]
     },
     "execution_count": 5,
     "metadata": {},
     "output_type": "execute_result"
    }
   ],
   "source": [
    "df_user = df[\"user_id\"]\n",
    "df_final = pd.concat([df_user, items_df], axis=1)\n",
    "df_final.dropna()\n",
    "df_final.head()"
   ]
  },
  {
   "cell_type": "markdown",
   "id": "bcd05aaa-0a68-419e-87da-fc171965ca86",
   "metadata": {},
   "source": [
    "## Transformacao de dados "
   ]
  },
  {
   "cell_type": "code",
   "execution_count": 16,
   "id": "cc9cbf51-041d-4297-8448-72dc4914b0c2",
   "metadata": {},
   "outputs": [],
   "source": [
    "import numpy as np\n",
    "import matplotlib.pyplot as plt"
   ]
  },
  {
   "cell_type": "code",
   "execution_count": 48,
   "id": "70cfdebe-553c-406e-acbb-eca9ade303f5",
   "metadata": {},
   "outputs": [
    {
     "data": {
      "text/plain": [
       "<Figure size 1000x600 with 0 Axes>"
      ]
     },
     "metadata": {},
     "output_type": "display_data"
    },
    {
     "data": {
      "text/plain": [
       "<Figure size 1000x600 with 0 Axes>"
      ]
     },
     "metadata": {},
     "output_type": "display_data"
    },
    {
     "data": {
      "image/png": "[encoded data removed]",
      "text/plain": [
       "<Figure size 1000x600 with 1 Axes>"
      ]
     },
     "metadata": {},
     "output_type": "display_data"
    }
   ],
   "source": [
    "plt.figure(figsize=(10, 6))\n",
    "plt.boxplot(df_final['playtime_forever'])\n",
    "plt.xlabel('Playtime Forever')\n",
    "plt.ylabel('Frequency')\n",
    "plt.title('Distribution of Playtime Forever')\n",
    "plt.show()"
   ]
  },
  {
   "cell_type": "code",
   "execution_count": 49,
   "id": "46c089df-57c4-481c-8bfe-fb7c6effd421",
   "metadata": {},
   "outputs": [
    {
     "data": {
      "image/png": "[encoded data removed]",
      "text/plain": [
       "<Figure size 1000x600 with 1 Axes>"
      ]
     },
     "metadata": {},
     "output_type": "display_data"
    }
   ],
   "source": [
    "df_final['log_playtime_forever'] = np.log10(df_final['playtime_forever']+1)\n",
    "\n",
    "plt.figure(figsize=(10, 6))\n",
    "plt.boxplot(df_final['log_playtime_forever'])\n",
    "plt.xlabel('Playtime Forever')\n",
    "plt.ylabel('Frequency')\n",
    "plt.title('Distribution of Playtime Forever')\n",
    "plt.show()"
   ]
  },
  {
   "attachments": {},
   "cell_type": "markdown",
   "id": "d0ae2675-ed2e-423f-8418-8043b2c1e717",
   "metadata": {},
   "source": [
    "## Train-Test Split"
   ]
  },
  {
   "cell_type": "markdown",
   "id": "7202bf08-a24e-47d0-b586-4d0d5bef635b",
   "metadata": {},
   "source": [
    "### Removendo usuarios que jogaram poucos jogos"
   ]
  },
  {
   "cell_type": "code",
   "execution_count": 34,
   "id": "defe9daf-d450-4340-8aa6-a9c8579fdadd",
   "metadata": {},
   "outputs": [
    {
     "data": {
      "text/plain": [
       "(5170015, 4)"
      ]
     },
     "execution_count": 34,
     "metadata": {},
     "output_type": "execute_result"
    }
   ],
   "source": [
    "df_final.shape"
   ]
  },
  {
   "cell_type": "code",
   "execution_count": 35,
   "id": "59bdfb83-cf5b-41df-b62b-da8f4dc79e6a",
   "metadata": {},
   "outputs": [
    {
     "data": {
      "text/plain": [
       "user_id\n",
       "--000--               58\n",
       "--ace--               44\n",
       "--ionex--             23\n",
       "-2SV-vuLB-Kg          68\n",
       "-404PageNotFound-    149\n",
       "Name: item_name, dtype: int64"
      ]
     },
     "execution_count": 35,
     "metadata": {},
     "output_type": "execute_result"
    }
   ],
   "source": [
    "df_count = df_final.groupby('user_id')['item_name'].count()\n",
    "df_count.head()"
   ]
  },
  {
   "cell_type": "code",
   "execution_count": 36,
   "id": "3ff2e741-5609-40b7-a744-8be484bd104c",
   "metadata": {},
   "outputs": [
    {
     "data": {
      "text/plain": [
       "87626"
      ]
     },
     "execution_count": 36,
     "metadata": {},
     "output_type": "execute_result"
    }
   ],
   "source": [
    "len(df_final['user_id'].unique())"
   ]
  },
  {
   "cell_type": "code",
   "execution_count": 37,
   "id": "eddbd10b-5143-4fa4-9c24-cb951869e907",
   "metadata": {},
   "outputs": [
    {
     "data": {
      "text/plain": [
       "np.int64(20016)"
      ]
     },
     "execution_count": 37,
     "metadata": {},
     "output_type": "execute_result"
    }
   ],
   "source": [
    "df_count[df_count<=1].count()"
   ]
  },
  {
   "cell_type": "code",
   "execution_count": 38,
   "id": "a1a78ce8-8a65-4e85-8049-af6dc14415f9",
   "metadata": {},
   "outputs": [],
   "source": [
    "removed_users = df_count[df_count<=1].index"
   ]
  },
  {
   "cell_type": "code",
   "execution_count": 39,
   "id": "d93799f2-83f0-421d-8adf-7b4d769e5889",
   "metadata": {},
   "outputs": [
    {
     "data": {
      "text/plain": [
       "20016"
      ]
     },
     "execution_count": 39,
     "metadata": {},
     "output_type": "execute_result"
    }
   ],
   "source": [
    "len(removed_users)"
   ]
  },
  {
   "cell_type": "code",
   "execution_count": 40,
   "id": "b20d23e0-ae9b-4054-bff5-c6c48f82d6c9",
   "metadata": {},
   "outputs": [
    {
     "data": {
      "text/plain": [
       "(5170015, 4)"
      ]
     },
     "execution_count": 40,
     "metadata": {},
     "output_type": "execute_result"
    }
   ],
   "source": [
    "df_final.shape"
   ]
  },
  {
   "cell_type": "code",
   "execution_count": 41,
   "id": "fc6283d9-2b72-4a9a-bf44-7ab8da7e583a",
   "metadata": {},
   "outputs": [],
   "source": [
    "df_final = df_final[~df_final['user_id'].isin(list(removed_users))]"
   ]
  },
  {
   "cell_type": "code",
   "execution_count": 42,
   "id": "8bf73e35-d7e0-49f2-a691-efb5579afd23",
   "metadata": {},
   "outputs": [
    {
     "data": {
      "text/plain": [
       "(5149907, 4)"
      ]
     },
     "execution_count": 42,
     "metadata": {},
     "output_type": "execute_result"
    }
   ],
   "source": [
    "df_final.shape"
   ]
  },
  {
   "cell_type": "markdown",
   "id": "32bf051a-e7f3-4518-b88c-5d73f4165d84",
   "metadata": {},
   "source": [
    "### Separando em treinamento e teste"
   ]
  },
  {
   "cell_type": "code",
   "execution_count": null,
   "id": "c585add3-501d-477c-b7e3-5ca5e35319c6",
   "metadata": {},
   "outputs": [],
   "source": [
    "import pandas as pd\n",
    "from sklearn.model_selection import train_test_split\n",
    "\n",
    "# Listas para armazenar os dados de treino e teste\n",
    "train_list = []\n",
    "test_list = []\n",
    "\n",
    "# Itera sobre cada grupo de user_id\n",
    "for user_id, user_data in df_final.groupby('user_id'):\n",
    "    if len(user_data) > 1:\n",
    "        # Divide os dados do usuário em 80% treino e 20% teste\n",
    "        user_train, user_test = train_test_split(user_data, test_size=0.2, random_state=42)\n",
    "    else:\n",
    "        continue\n",
    "    \n",
    "    train_list.append(user_train)\n",
    "    test_list.append(user_test)\n",
    "\n",
    "# Concatena todos os dados de treino e teste\n",
    "train_data = pd.concat(train_list)\n",
    "test_data = pd.concat(test_list)"
   ]
  },
  {
   "cell_type": "code",
   "execution_count": 55,
   "id": "553486d3-346d-4294-86fb-a8ce5e12ba72",
   "metadata": {},
   "outputs": [
    {
     "data": {
      "text/plain": [
       "67610"
      ]
     },
     "execution_count": 55,
     "metadata": {},
     "output_type": "execute_result"
    }
   ],
   "source": [
    "len(train_data['user_id'].unique())"
   ]
  },
  {
   "cell_type": "code",
   "execution_count": 56,
   "id": "c89177b1-ebb6-45fb-9338-ef1cebd0fa73",
   "metadata": {},
   "outputs": [
    {
     "data": {
      "text/plain": [
       "67610"
      ]
     },
     "execution_count": 56,
     "metadata": {},
     "output_type": "execute_result"
    }
   ],
   "source": [
    "len(test_data['user_id'].unique())"
   ]
  },
  {
   "cell_type": "markdown",
   "id": "ef6a9948-5d6d-463c-933b-313a8ec0d7b2",
   "metadata": {},
   "source": [
    "## Modelo de Correlação"
   ]
  },
  {
   "cell_type": "code",
   "execution_count": 18,
   "id": "e9fde34c-f5b2-4674-8b3b-66062b04e94d",
   "metadata": {},
   "outputs": [
    {
     "data": {
      "text/plain": [
       "10947"
      ]
     },
     "execution_count": 18,
     "metadata": {},
     "output_type": "execute_result"
    }
   ],
   "source": [
    "len(df_final['item_name'].unique())"
   ]
  },
  {
   "cell_type": "code",
   "execution_count": 19,
   "id": "930d9c33-5e16-4373-9c48-85fe4e4e5107",
   "metadata": {},
   "outputs": [
    {
     "data": {
      "text/html": [
       "<div>\n",
       "<style scoped>\n",
       "    .dataframe tbody tr th:only-of-type {\n",
       "        vertical-align: middle;\n",
       "    }\n",
       "\n",
       "    .dataframe tbody tr th {\n",
       "        vertical-align: top;\n",
       "    }\n",
       "\n",
       "    .dataframe thead th {\n",
       "        text-align: right;\n",
       "    }\n",
       "</style>\n",
       "<table border=\"1\" class=\"dataframe\">\n",
       "  <thead>\n",
       "    <tr style=\"text-align: right;\">\n",
       "      <th></th>\n",
       "      <th>user_id</th>\n",
       "      <th>item_name</th>\n",
       "      <th>playtime_forever</th>\n",
       "      <th>log_playtime_forever</th>\n",
       "    </tr>\n",
       "  </thead>\n",
       "  <tbody>\n",
       "    <tr>\n",
       "      <th>1810605</th>\n",
       "      <td>--000--</td>\n",
       "      <td>Trove</td>\n",
       "      <td>4260.0</td>\n",
       "      <td>3.629512</td>\n",
       "    </tr>\n",
       "    <tr>\n",
       "      <th>1810600</th>\n",
       "      <td>--000--</td>\n",
       "      <td>Guns and Robots</td>\n",
       "      <td>0.0</td>\n",
       "      <td>0.000000</td>\n",
       "    </tr>\n",
       "    <tr>\n",
       "      <th>1810577</th>\n",
       "      <td>--000--</td>\n",
       "      <td>Hero Academy</td>\n",
       "      <td>38.0</td>\n",
       "      <td>1.591065</td>\n",
       "    </tr>\n",
       "    <tr>\n",
       "      <th>1810586</th>\n",
       "      <td>--000--</td>\n",
       "      <td>Path of Exile</td>\n",
       "      <td>89.0</td>\n",
       "      <td>1.954243</td>\n",
       "    </tr>\n",
       "    <tr>\n",
       "      <th>1810575</th>\n",
       "      <td>--000--</td>\n",
       "      <td>Terraria</td>\n",
       "      <td>1172.0</td>\n",
       "      <td>3.069298</td>\n",
       "    </tr>\n",
       "  </tbody>\n",
       "</table>\n",
       "</div>"
      ],
      "text/plain": [
       "         user_id        item_name  playtime_forever  log_playtime_forever\n",
       "1810605  --000--            Trove            4260.0              3.629512\n",
       "1810600  --000--  Guns and Robots               0.0              0.000000\n",
       "1810577  --000--     Hero Academy              38.0              1.591065\n",
       "1810586  --000--    Path of Exile              89.0              1.954243\n",
       "1810575  --000--         Terraria            1172.0              3.069298"
      ]
     },
     "execution_count": 19,
     "metadata": {},
     "output_type": "execute_result"
    }
   ],
   "source": [
    "train_data.head()"
   ]
  },
  {
   "cell_type": "code",
   "execution_count": 20,
   "id": "9cdbc6f4-1643-48ac-bda8-cce42f200e92",
   "metadata": {},
   "outputs": [],
   "source": [
    "pivot_table = train_data.pivot_table(columns='item_name', index='user_id', values='log_playtime_forever', fill_value=0)"
   ]
  },
  {
   "cell_type": "code",
   "execution_count": 21,
   "id": "9c2d9e6c-19d5-4cbe-acdc-02e39773e47c",
   "metadata": {},
   "outputs": [],
   "source": [
    "correlation_matrix = pivot_table.corr()"
   ]
  },
  {
   "cell_type": "code",
   "execution_count": 24,
   "id": "09a572af-a6a1-45a7-8a14-f8803f3c9a01",
   "metadata": {},
   "outputs": [
    {
     "data": {
      "text/html": [
       "<div>\n",
       "<style scoped>\n",
       "    .dataframe tbody tr th:only-of-type {\n",
       "        vertical-align: middle;\n",
       "    }\n",
       "\n",
       "    .dataframe tbody tr th {\n",
       "        vertical-align: top;\n",
       "    }\n",
       "\n",
       "    .dataframe thead th {\n",
       "        text-align: right;\n",
       "    }\n",
       "</style>\n",
       "<table border=\"1\" class=\"dataframe\">\n",
       "  <thead>\n",
       "    <tr style=\"text-align: right;\">\n",
       "      <th>item_name</th>\n",
       "      <th>神明的一天世界(God's One Day World)</th>\n",
       "      <th>! That Bastard Is Trying To Steal Our Gold !</th>\n",
       "      <th>\"Glow Ball\" - The billiard puzzle game</th>\n",
       "      <th>#SelfieTennis</th>\n",
       "      <th>#killallzombies</th>\n",
       "      <th>$1 Ride</th>\n",
       "      <th>'n Verlore Verstand</th>\n",
       "      <th>.EXE</th>\n",
       "      <th>001 Game Creator</th>\n",
       "      <th>007™ Legends</th>\n",
       "      <th>...</th>\n",
       "      <th>theBlu</th>\n",
       "      <th>theHunter</th>\n",
       "      <th>theHunter: Primal</th>\n",
       "      <th>vrAMP</th>\n",
       "      <th>Безумный Макс: Дорога ярости</th>\n",
       "      <th>丛林守望者（Ranger of the jungle）</th>\n",
       "      <th>侠客风云传(Tale of Wuxia)</th>\n",
       "      <th>大海战 Navy Field IV</th>\n",
       "      <th>神楽道中記(KaguraDouchuuki)</th>\n",
       "      <th>軒轅劍外傳穹之扉(The Gate of Firmament)</th>\n",
       "    </tr>\n",
       "    <tr>\n",
       "      <th>item_name</th>\n",
       "      <th></th>\n",
       "      <th></th>\n",
       "      <th></th>\n",
       "      <th></th>\n",
       "      <th></th>\n",
       "      <th></th>\n",
       "      <th></th>\n",
       "      <th></th>\n",
       "      <th></th>\n",
       "      <th></th>\n",
       "      <th></th>\n",
       "      <th></th>\n",
       "      <th></th>\n",
       "      <th></th>\n",
       "      <th></th>\n",
       "      <th></th>\n",
       "      <th></th>\n",
       "      <th></th>\n",
       "      <th></th>\n",
       "      <th></th>\n",
       "      <th></th>\n",
       "    </tr>\n",
       "  </thead>\n",
       "  <tbody>\n",
       "    <tr>\n",
       "      <th>神明的一天世界(God's One Day World)</th>\n",
       "      <td>1.000000</td>\n",
       "      <td>-0.000021</td>\n",
       "      <td>-0.000040</td>\n",
       "      <td>-0.000046</td>\n",
       "      <td>-0.000030</td>\n",
       "      <td>0.262080</td>\n",
       "      <td>-0.000021</td>\n",
       "      <td>NaN</td>\n",
       "      <td>-0.000030</td>\n",
       "      <td>-0.000072</td>\n",
       "      <td>...</td>\n",
       "      <td>-0.000110</td>\n",
       "      <td>-0.001228</td>\n",
       "      <td>-0.000304</td>\n",
       "      <td>-0.000028</td>\n",
       "      <td>NaN</td>\n",
       "      <td>-0.000021</td>\n",
       "      <td>-0.000058</td>\n",
       "      <td>-0.000026</td>\n",
       "      <td>-0.000021</td>\n",
       "      <td>-0.000049</td>\n",
       "    </tr>\n",
       "    <tr>\n",
       "      <th>! That Bastard Is Trying To Steal Our Gold !</th>\n",
       "      <td>-0.000021</td>\n",
       "      <td>1.000000</td>\n",
       "      <td>-0.000028</td>\n",
       "      <td>-0.000032</td>\n",
       "      <td>-0.000021</td>\n",
       "      <td>-0.000039</td>\n",
       "      <td>-0.000015</td>\n",
       "      <td>NaN</td>\n",
       "      <td>-0.000021</td>\n",
       "      <td>-0.000051</td>\n",
       "      <td>...</td>\n",
       "      <td>-0.000078</td>\n",
       "      <td>-0.000870</td>\n",
       "      <td>-0.000215</td>\n",
       "      <td>-0.000020</td>\n",
       "      <td>NaN</td>\n",
       "      <td>-0.000015</td>\n",
       "      <td>-0.000041</td>\n",
       "      <td>-0.000019</td>\n",
       "      <td>-0.000015</td>\n",
       "      <td>-0.000035</td>\n",
       "    </tr>\n",
       "    <tr>\n",
       "      <th>\"Glow Ball\" - The billiard puzzle game</th>\n",
       "      <td>-0.000040</td>\n",
       "      <td>-0.000028</td>\n",
       "      <td>1.000000</td>\n",
       "      <td>-0.000062</td>\n",
       "      <td>-0.000040</td>\n",
       "      <td>-0.000075</td>\n",
       "      <td>-0.000028</td>\n",
       "      <td>NaN</td>\n",
       "      <td>-0.000040</td>\n",
       "      <td>-0.000098</td>\n",
       "      <td>...</td>\n",
       "      <td>-0.000149</td>\n",
       "      <td>0.009445</td>\n",
       "      <td>-0.000414</td>\n",
       "      <td>-0.000038</td>\n",
       "      <td>NaN</td>\n",
       "      <td>-0.000028</td>\n",
       "      <td>-0.000079</td>\n",
       "      <td>-0.000036</td>\n",
       "      <td>-0.000028</td>\n",
       "      <td>-0.000067</td>\n",
       "    </tr>\n",
       "    <tr>\n",
       "      <th>#SelfieTennis</th>\n",
       "      <td>-0.000046</td>\n",
       "      <td>-0.000032</td>\n",
       "      <td>-0.000062</td>\n",
       "      <td>1.000000</td>\n",
       "      <td>-0.000046</td>\n",
       "      <td>-0.000085</td>\n",
       "      <td>-0.000032</td>\n",
       "      <td>NaN</td>\n",
       "      <td>-0.000046</td>\n",
       "      <td>-0.000111</td>\n",
       "      <td>...</td>\n",
       "      <td>0.118427</td>\n",
       "      <td>0.005349</td>\n",
       "      <td>-0.000469</td>\n",
       "      <td>-0.000043</td>\n",
       "      <td>NaN</td>\n",
       "      <td>-0.000032</td>\n",
       "      <td>-0.000090</td>\n",
       "      <td>-0.000041</td>\n",
       "      <td>-0.000032</td>\n",
       "      <td>-0.000076</td>\n",
       "    </tr>\n",
       "    <tr>\n",
       "      <th>#killallzombies</th>\n",
       "      <td>-0.000030</td>\n",
       "      <td>-0.000021</td>\n",
       "      <td>-0.000040</td>\n",
       "      <td>-0.000046</td>\n",
       "      <td>1.000000</td>\n",
       "      <td>0.259650</td>\n",
       "      <td>-0.000021</td>\n",
       "      <td>NaN</td>\n",
       "      <td>-0.000030</td>\n",
       "      <td>0.101250</td>\n",
       "      <td>...</td>\n",
       "      <td>-0.000110</td>\n",
       "      <td>-0.001228</td>\n",
       "      <td>0.023669</td>\n",
       "      <td>-0.000028</td>\n",
       "      <td>NaN</td>\n",
       "      <td>-0.000021</td>\n",
       "      <td>-0.000058</td>\n",
       "      <td>0.659089</td>\n",
       "      <td>-0.000021</td>\n",
       "      <td>-0.000049</td>\n",
       "    </tr>\n",
       "    <tr>\n",
       "      <th>...</th>\n",
       "      <td>...</td>\n",
       "      <td>...</td>\n",
       "      <td>...</td>\n",
       "      <td>...</td>\n",
       "      <td>...</td>\n",
       "      <td>...</td>\n",
       "      <td>...</td>\n",
       "      <td>...</td>\n",
       "      <td>...</td>\n",
       "      <td>...</td>\n",
       "      <td>...</td>\n",
       "      <td>...</td>\n",
       "      <td>...</td>\n",
       "      <td>...</td>\n",
       "      <td>...</td>\n",
       "      <td>...</td>\n",
       "      <td>...</td>\n",
       "      <td>...</td>\n",
       "      <td>...</td>\n",
       "      <td>...</td>\n",
       "      <td>...</td>\n",
       "    </tr>\n",
       "    <tr>\n",
       "      <th>丛林守望者（Ranger of the jungle）</th>\n",
       "      <td>-0.000021</td>\n",
       "      <td>-0.000015</td>\n",
       "      <td>-0.000028</td>\n",
       "      <td>-0.000032</td>\n",
       "      <td>-0.000021</td>\n",
       "      <td>-0.000039</td>\n",
       "      <td>-0.000015</td>\n",
       "      <td>NaN</td>\n",
       "      <td>-0.000021</td>\n",
       "      <td>-0.000051</td>\n",
       "      <td>...</td>\n",
       "      <td>-0.000078</td>\n",
       "      <td>-0.000870</td>\n",
       "      <td>-0.000215</td>\n",
       "      <td>-0.000020</td>\n",
       "      <td>NaN</td>\n",
       "      <td>1.000000</td>\n",
       "      <td>0.390247</td>\n",
       "      <td>-0.000019</td>\n",
       "      <td>1.000000</td>\n",
       "      <td>0.497016</td>\n",
       "    </tr>\n",
       "    <tr>\n",
       "      <th>侠客风云传(Tale of Wuxia)</th>\n",
       "      <td>-0.000058</td>\n",
       "      <td>-0.000041</td>\n",
       "      <td>-0.000079</td>\n",
       "      <td>-0.000090</td>\n",
       "      <td>-0.000058</td>\n",
       "      <td>-0.000109</td>\n",
       "      <td>-0.000041</td>\n",
       "      <td>NaN</td>\n",
       "      <td>-0.000058</td>\n",
       "      <td>-0.000142</td>\n",
       "      <td>...</td>\n",
       "      <td>-0.000216</td>\n",
       "      <td>-0.002421</td>\n",
       "      <td>-0.000599</td>\n",
       "      <td>-0.000055</td>\n",
       "      <td>NaN</td>\n",
       "      <td>0.390247</td>\n",
       "      <td>1.000000</td>\n",
       "      <td>-0.000052</td>\n",
       "      <td>0.390247</td>\n",
       "      <td>0.193893</td>\n",
       "    </tr>\n",
       "    <tr>\n",
       "      <th>大海战 Navy Field IV</th>\n",
       "      <td>-0.000026</td>\n",
       "      <td>-0.000019</td>\n",
       "      <td>-0.000036</td>\n",
       "      <td>-0.000041</td>\n",
       "      <td>0.659089</td>\n",
       "      <td>0.378382</td>\n",
       "      <td>-0.000019</td>\n",
       "      <td>NaN</td>\n",
       "      <td>-0.000026</td>\n",
       "      <td>0.147578</td>\n",
       "      <td>...</td>\n",
       "      <td>-0.000098</td>\n",
       "      <td>0.000790</td>\n",
       "      <td>0.034661</td>\n",
       "      <td>-0.000025</td>\n",
       "      <td>NaN</td>\n",
       "      <td>-0.000019</td>\n",
       "      <td>-0.000052</td>\n",
       "      <td>1.000000</td>\n",
       "      <td>-0.000019</td>\n",
       "      <td>-0.000044</td>\n",
       "    </tr>\n",
       "    <tr>\n",
       "      <th>神楽道中記(KaguraDouchuuki)</th>\n",
       "      <td>-0.000021</td>\n",
       "      <td>-0.000015</td>\n",
       "      <td>-0.000028</td>\n",
       "      <td>-0.000032</td>\n",
       "      <td>-0.000021</td>\n",
       "      <td>-0.000039</td>\n",
       "      <td>-0.000015</td>\n",
       "      <td>NaN</td>\n",
       "      <td>-0.000021</td>\n",
       "      <td>-0.000051</td>\n",
       "      <td>...</td>\n",
       "      <td>-0.000078</td>\n",
       "      <td>-0.000870</td>\n",
       "      <td>-0.000215</td>\n",
       "      <td>-0.000020</td>\n",
       "      <td>NaN</td>\n",
       "      <td>1.000000</td>\n",
       "      <td>0.390247</td>\n",
       "      <td>-0.000019</td>\n",
       "      <td>1.000000</td>\n",
       "      <td>0.497016</td>\n",
       "    </tr>\n",
       "    <tr>\n",
       "      <th>軒轅劍外傳穹之扉(The Gate of Firmament)</th>\n",
       "      <td>-0.000049</td>\n",
       "      <td>-0.000035</td>\n",
       "      <td>-0.000067</td>\n",
       "      <td>-0.000076</td>\n",
       "      <td>-0.000049</td>\n",
       "      <td>-0.000092</td>\n",
       "      <td>-0.000035</td>\n",
       "      <td>NaN</td>\n",
       "      <td>-0.000049</td>\n",
       "      <td>-0.000120</td>\n",
       "      <td>...</td>\n",
       "      <td>-0.000183</td>\n",
       "      <td>-0.002053</td>\n",
       "      <td>-0.000508</td>\n",
       "      <td>-0.000047</td>\n",
       "      <td>NaN</td>\n",
       "      <td>0.497016</td>\n",
       "      <td>0.193893</td>\n",
       "      <td>-0.000044</td>\n",
       "      <td>0.497016</td>\n",
       "      <td>1.000000</td>\n",
       "    </tr>\n",
       "  </tbody>\n",
       "</table>\n",
       "<p>10771 rows × 10771 columns</p>\n",
       "</div>"
      ],
      "text/plain": [
       "item_name                                      神明的一天世界(God's One Day World)  \\\n",
       "item_name                                                                     \n",
       " 神明的一天世界(God's One Day World)                                      1.000000   \n",
       "! That Bastard Is Trying To Steal Our Gold !                      -0.000021   \n",
       "\"Glow Ball\" - The billiard puzzle game                            -0.000040   \n",
       "#SelfieTennis                                                     -0.000046   \n",
       "#killallzombies                                                   -0.000030   \n",
       "...                                                                     ...   \n",
       "丛林守望者（Ranger of the jungle）                                       -0.000021   \n",
       "侠客风云传(Tale of Wuxia)                                              -0.000058   \n",
       "大海战 Navy Field IV                                                 -0.000026   \n",
       "神楽道中記(KaguraDouchuuki)                                            -0.000021   \n",
       "軒轅劍外傳穹之扉(The Gate of Firmament)                                   -0.000049   \n",
       "\n",
       "item_name                                     ! That Bastard Is Trying To Steal Our Gold !  \\\n",
       "item_name                                                                                    \n",
       " 神明的一天世界(God's One Day World)                                                    -0.000021   \n",
       "! That Bastard Is Trying To Steal Our Gold !                                      1.000000   \n",
       "\"Glow Ball\" - The billiard puzzle game                                           -0.000028   \n",
       "#SelfieTennis                                                                    -0.000032   \n",
       "#killallzombies                                                                  -0.000021   \n",
       "...                                                                                    ...   \n",
       "丛林守望者（Ranger of the jungle）                                                      -0.000015   \n",
       "侠客风云传(Tale of Wuxia)                                                             -0.000041   \n",
       "大海战 Navy Field IV                                                                -0.000019   \n",
       "神楽道中記(KaguraDouchuuki)                                                           -0.000015   \n",
       "軒轅劍外傳穹之扉(The Gate of Firmament)                                                  -0.000035   \n",
       "\n",
       "item_name                                     \"Glow Ball\" - The billiard puzzle game  \\\n",
       "item_name                                                                              \n",
       " 神明的一天世界(God's One Day World)                                              -0.000040   \n",
       "! That Bastard Is Trying To Steal Our Gold !                               -0.000028   \n",
       "\"Glow Ball\" - The billiard puzzle game                                      1.000000   \n",
       "#SelfieTennis                                                              -0.000062   \n",
       "#killallzombies                                                            -0.000040   \n",
       "...                                                                              ...   \n",
       "丛林守望者（Ranger of the jungle）                                                -0.000028   \n",
       "侠客风云传(Tale of Wuxia)                                                       -0.000079   \n",
       "大海战 Navy Field IV                                                          -0.000036   \n",
       "神楽道中記(KaguraDouchuuki)                                                     -0.000028   \n",
       "軒轅劍外傳穹之扉(The Gate of Firmament)                                            -0.000067   \n",
       "\n",
       "item_name                                     #SelfieTennis  #killallzombies  \\\n",
       "item_name                                                                      \n",
       " 神明的一天世界(God's One Day World)                     -0.000046        -0.000030   \n",
       "! That Bastard Is Trying To Steal Our Gold !      -0.000032        -0.000021   \n",
       "\"Glow Ball\" - The billiard puzzle game            -0.000062        -0.000040   \n",
       "#SelfieTennis                                      1.000000        -0.000046   \n",
       "#killallzombies                                   -0.000046         1.000000   \n",
       "...                                                     ...              ...   \n",
       "丛林守望者（Ranger of the jungle）                       -0.000032        -0.000021   \n",
       "侠客风云传(Tale of Wuxia)                              -0.000090        -0.000058   \n",
       "大海战 Navy Field IV                                 -0.000041         0.659089   \n",
       "神楽道中記(KaguraDouchuuki)                            -0.000032        -0.000021   \n",
       "軒轅劍外傳穹之扉(The Gate of Firmament)                   -0.000076        -0.000049   \n",
       "\n",
       "item_name                                      $1 Ride  'n Verlore Verstand  \\\n",
       "item_name                                                                     \n",
       " 神明的一天世界(God's One Day World)                 0.262080            -0.000021   \n",
       "! That Bastard Is Trying To Steal Our Gold ! -0.000039            -0.000015   \n",
       "\"Glow Ball\" - The billiard puzzle game       -0.000075            -0.000028   \n",
       "#SelfieTennis                                -0.000085            -0.000032   \n",
       "#killallzombies                               0.259650            -0.000021   \n",
       "...                                                ...                  ...   \n",
       "丛林守望者（Ranger of the jungle）                  -0.000039            -0.000015   \n",
       "侠客风云传(Tale of Wuxia)                         -0.000109            -0.000041   \n",
       "大海战 Navy Field IV                             0.378382            -0.000019   \n",
       "神楽道中記(KaguraDouchuuki)                       -0.000039            -0.000015   \n",
       "軒轅劍外傳穹之扉(The Gate of Firmament)              -0.000092            -0.000035   \n",
       "\n",
       "item_name                                     .EXE  001 Game Creator  \\\n",
       "item_name                                                              \n",
       " 神明的一天世界(God's One Day World)                  NaN         -0.000030   \n",
       "! That Bastard Is Trying To Steal Our Gold !   NaN         -0.000021   \n",
       "\"Glow Ball\" - The billiard puzzle game         NaN         -0.000040   \n",
       "#SelfieTennis                                  NaN         -0.000046   \n",
       "#killallzombies                                NaN         -0.000030   \n",
       "...                                            ...               ...   \n",
       "丛林守望者（Ranger of the jungle）                    NaN         -0.000021   \n",
       "侠客风云传(Tale of Wuxia)                           NaN         -0.000058   \n",
       "大海战 Navy Field IV                              NaN         -0.000026   \n",
       "神楽道中記(KaguraDouchuuki)                         NaN         -0.000021   \n",
       "軒轅劍外傳穹之扉(The Gate of Firmament)                NaN         -0.000049   \n",
       "\n",
       "item_name                                     007™ Legends  ...    theBlu  \\\n",
       "item_name                                                   ...             \n",
       " 神明的一天世界(God's One Day World)                    -0.000072  ... -0.000110   \n",
       "! That Bastard Is Trying To Steal Our Gold !     -0.000051  ... -0.000078   \n",
       "\"Glow Ball\" - The billiard puzzle game           -0.000098  ... -0.000149   \n",
       "#SelfieTennis                                    -0.000111  ...  0.118427   \n",
       "#killallzombies                                   0.101250  ... -0.000110   \n",
       "...                                                    ...  ...       ...   \n",
       "丛林守望者（Ranger of the jungle）                      -0.000051  ... -0.000078   \n",
       "侠客风云传(Tale of Wuxia)                             -0.000142  ... -0.000216   \n",
       "大海战 Navy Field IV                                 0.147578  ... -0.000098   \n",
       "神楽道中記(KaguraDouchuuki)                           -0.000051  ... -0.000078   \n",
       "軒轅劍外傳穹之扉(The Gate of Firmament)                  -0.000120  ... -0.000183   \n",
       "\n",
       "item_name                                     theHunter  theHunter: Primal  \\\n",
       "item_name                                                                    \n",
       " 神明的一天世界(God's One Day World)                 -0.001228          -0.000304   \n",
       "! That Bastard Is Trying To Steal Our Gold !  -0.000870          -0.000215   \n",
       "\"Glow Ball\" - The billiard puzzle game         0.009445          -0.000414   \n",
       "#SelfieTennis                                  0.005349          -0.000469   \n",
       "#killallzombies                               -0.001228           0.023669   \n",
       "...                                                 ...                ...   \n",
       "丛林守望者（Ranger of the jungle）                   -0.000870          -0.000215   \n",
       "侠客风云传(Tale of Wuxia)                          -0.002421          -0.000599   \n",
       "大海战 Navy Field IV                              0.000790           0.034661   \n",
       "神楽道中記(KaguraDouchuuki)                        -0.000870          -0.000215   \n",
       "軒轅劍外傳穹之扉(The Gate of Firmament)               -0.002053          -0.000508   \n",
       "\n",
       "item_name                                        vrAMP  \\\n",
       "item_name                                                \n",
       " 神明的一天世界(God's One Day World)                -0.000028   \n",
       "! That Bastard Is Trying To Steal Our Gold ! -0.000020   \n",
       "\"Glow Ball\" - The billiard puzzle game       -0.000038   \n",
       "#SelfieTennis                                -0.000043   \n",
       "#killallzombies                              -0.000028   \n",
       "...                                                ...   \n",
       "丛林守望者（Ranger of the jungle）                  -0.000020   \n",
       "侠客风云传(Tale of Wuxia)                         -0.000055   \n",
       "大海战 Navy Field IV                            -0.000025   \n",
       "神楽道中記(KaguraDouchuuki)                       -0.000020   \n",
       "軒轅劍外傳穹之扉(The Gate of Firmament)              -0.000047   \n",
       "\n",
       "item_name                                     Безумный Макс: Дорога ярости  \\\n",
       "item_name                                                                    \n",
       " 神明的一天世界(God's One Day World)                                          NaN   \n",
       "! That Bastard Is Trying To Steal Our Gold !                           NaN   \n",
       "\"Glow Ball\" - The billiard puzzle game                                 NaN   \n",
       "#SelfieTennis                                                          NaN   \n",
       "#killallzombies                                                        NaN   \n",
       "...                                                                    ...   \n",
       "丛林守望者（Ranger of the jungle）                                            NaN   \n",
       "侠客风云传(Tale of Wuxia)                                                   NaN   \n",
       "大海战 Navy Field IV                                                      NaN   \n",
       "神楽道中記(KaguraDouchuuki)                                                 NaN   \n",
       "軒轅劍外傳穹之扉(The Gate of Firmament)                                        NaN   \n",
       "\n",
       "item_name                                     丛林守望者（Ranger of the jungle）  \\\n",
       "item_name                                                                   \n",
       " 神明的一天世界(God's One Day World)                                   -0.000021   \n",
       "! That Bastard Is Trying To Steal Our Gold !                    -0.000015   \n",
       "\"Glow Ball\" - The billiard puzzle game                          -0.000028   \n",
       "#SelfieTennis                                                   -0.000032   \n",
       "#killallzombies                                                 -0.000021   \n",
       "...                                                                   ...   \n",
       "丛林守望者（Ranger of the jungle）                                      1.000000   \n",
       "侠客风云传(Tale of Wuxia)                                             0.390247   \n",
       "大海战 Navy Field IV                                               -0.000019   \n",
       "神楽道中記(KaguraDouchuuki)                                           1.000000   \n",
       "軒轅劍外傳穹之扉(The Gate of Firmament)                                  0.497016   \n",
       "\n",
       "item_name                                     侠客风云传(Tale of Wuxia)  \\\n",
       "item_name                                                            \n",
       " 神明的一天世界(God's One Day World)                            -0.000058   \n",
       "! That Bastard Is Trying To Steal Our Gold !             -0.000041   \n",
       "\"Glow Ball\" - The billiard puzzle game                   -0.000079   \n",
       "#SelfieTennis                                            -0.000090   \n",
       "#killallzombies                                          -0.000058   \n",
       "...                                                            ...   \n",
       "丛林守望者（Ranger of the jungle）                               0.390247   \n",
       "侠客风云传(Tale of Wuxia)                                      1.000000   \n",
       "大海战 Navy Field IV                                        -0.000052   \n",
       "神楽道中記(KaguraDouchuuki)                                    0.390247   \n",
       "軒轅劍外傳穹之扉(The Gate of Firmament)                           0.193893   \n",
       "\n",
       "item_name                                     大海战 Navy Field IV  \\\n",
       "item_name                                                         \n",
       " 神明的一天世界(God's One Day World)                         -0.000026   \n",
       "! That Bastard Is Trying To Steal Our Gold !          -0.000019   \n",
       "\"Glow Ball\" - The billiard puzzle game                -0.000036   \n",
       "#SelfieTennis                                         -0.000041   \n",
       "#killallzombies                                        0.659089   \n",
       "...                                                         ...   \n",
       "丛林守望者（Ranger of the jungle）                           -0.000019   \n",
       "侠客风云传(Tale of Wuxia)                                  -0.000052   \n",
       "大海战 Navy Field IV                                      1.000000   \n",
       "神楽道中記(KaguraDouchuuki)                                -0.000019   \n",
       "軒轅劍外傳穹之扉(The Gate of Firmament)                       -0.000044   \n",
       "\n",
       "item_name                                     神楽道中記(KaguraDouchuuki)  \\\n",
       "item_name                                                              \n",
       " 神明的一天世界(God's One Day World)                              -0.000021   \n",
       "! That Bastard Is Trying To Steal Our Gold !               -0.000015   \n",
       "\"Glow Ball\" - The billiard puzzle game                     -0.000028   \n",
       "#SelfieTennis                                              -0.000032   \n",
       "#killallzombies                                            -0.000021   \n",
       "...                                                              ...   \n",
       "丛林守望者（Ranger of the jungle）                                 1.000000   \n",
       "侠客风云传(Tale of Wuxia)                                        0.390247   \n",
       "大海战 Navy Field IV                                          -0.000019   \n",
       "神楽道中記(KaguraDouchuuki)                                      1.000000   \n",
       "軒轅劍外傳穹之扉(The Gate of Firmament)                             0.497016   \n",
       "\n",
       "item_name                                     軒轅劍外傳穹之扉(The Gate of Firmament)  \n",
       "item_name                                                                      \n",
       " 神明的一天世界(God's One Day World)                                       -0.000049  \n",
       "! That Bastard Is Trying To Steal Our Gold !                        -0.000035  \n",
       "\"Glow Ball\" - The billiard puzzle game                              -0.000067  \n",
       "#SelfieTennis                                                       -0.000076  \n",
       "#killallzombies                                                     -0.000049  \n",
       "...                                                                       ...  \n",
       "丛林守望者（Ranger of the jungle）                                          0.497016  \n",
       "侠客风云传(Tale of Wuxia)                                                 0.193893  \n",
       "大海战 Navy Field IV                                                   -0.000044  \n",
       "神楽道中記(KaguraDouchuuki)                                               0.497016  \n",
       "軒轅劍外傳穹之扉(The Gate of Firmament)                                      1.000000  \n",
       "\n",
       "[10771 rows x 10771 columns]"
      ]
     },
     "execution_count": 24,
     "metadata": {},
     "output_type": "execute_result"
    }
   ],
   "source": [
    "correlation_matrix"
   ]
  },
  {
   "cell_type": "code",
   "execution_count": 217,
   "id": "8a3cf282-6324-4ada-8b91-9e93394f76b2",
   "metadata": {},
   "outputs": [],
   "source": [
    "def user_recomendations(user_id, dataframe):\n",
    "    correlations = []\n",
    "    top_5_games = dataframe[dataframe['user_id'] == user_id].nlargest(5, 'playtime_forever')[['item_name']]\n",
    "    top_5_games = top_5_games['item_name'].tolist()\n",
    "    top_5_correlations = correlation_matrix[top_5_games].drop(top_5_games)\n",
    "    for game in top_5_correlations.columns:\n",
    "        top_5_correlations = correlation_matrix[game].drop(game).nlargest(2)\n",
    "        top_values = top_5_correlations.reset_index().rename(columns={game: 'value'})\n",
    "        top_values['user_id'] = user_id\n",
    "        correlations.append(top_values)\n",
    "\n",
    "    correlations_df = pd.concat(correlations, axis=0)\n",
    "    return correlations_df"
   ]
  },
  {
   "cell_type": "code",
   "execution_count": 218,
   "id": "3ab318f2-94a4-47d6-9ce6-60f724dd60dd",
   "metadata": {},
   "outputs": [
    {
     "data": {
      "text/html": [
       "<div>\n",
       "<style scoped>\n",
       "    .dataframe tbody tr th:only-of-type {\n",
       "        vertical-align: middle;\n",
       "    }\n",
       "\n",
       "    .dataframe tbody tr th {\n",
       "        vertical-align: top;\n",
       "    }\n",
       "\n",
       "    .dataframe thead th {\n",
       "        text-align: right;\n",
       "    }\n",
       "</style>\n",
       "<table border=\"1\" class=\"dataframe\">\n",
       "  <thead>\n",
       "    <tr style=\"text-align: right;\">\n",
       "      <th></th>\n",
       "      <th>item_name</th>\n",
       "      <th>value</th>\n",
       "      <th>user_id</th>\n",
       "    </tr>\n",
       "  </thead>\n",
       "  <tbody>\n",
       "    <tr>\n",
       "      <th>0</th>\n",
       "      <td>PAYDAY 2</td>\n",
       "      <td>0.230286</td>\n",
       "      <td>--000--</td>\n",
       "    </tr>\n",
       "    <tr>\n",
       "      <th>1</th>\n",
       "      <td>Rust</td>\n",
       "      <td>0.211344</td>\n",
       "      <td>--000--</td>\n",
       "    </tr>\n",
       "    <tr>\n",
       "      <th>0</th>\n",
       "      <td>Unturned</td>\n",
       "      <td>0.267594</td>\n",
       "      <td>--000--</td>\n",
       "    </tr>\n",
       "    <tr>\n",
       "      <th>1</th>\n",
       "      <td>Brawlhalla</td>\n",
       "      <td>0.245879</td>\n",
       "      <td>--000--</td>\n",
       "    </tr>\n",
       "    <tr>\n",
       "      <th>0</th>\n",
       "      <td>Robocraft</td>\n",
       "      <td>0.281113</td>\n",
       "      <td>--000--</td>\n",
       "    </tr>\n",
       "    <tr>\n",
       "      <th>1</th>\n",
       "      <td>Trove</td>\n",
       "      <td>0.267594</td>\n",
       "      <td>--000--</td>\n",
       "    </tr>\n",
       "    <tr>\n",
       "      <th>0</th>\n",
       "      <td>Killing Floor 2</td>\n",
       "      <td>0.326063</td>\n",
       "      <td>--000--</td>\n",
       "    </tr>\n",
       "    <tr>\n",
       "      <th>1</th>\n",
       "      <td>Killing Floor Mod: Defence Alliance 2</td>\n",
       "      <td>0.325921</td>\n",
       "      <td>--000--</td>\n",
       "    </tr>\n",
       "    <tr>\n",
       "      <th>0</th>\n",
       "      <td>Saints Row IV</td>\n",
       "      <td>0.339459</td>\n",
       "      <td>--000--</td>\n",
       "    </tr>\n",
       "    <tr>\n",
       "      <th>1</th>\n",
       "      <td>Saints Row 2</td>\n",
       "      <td>0.263086</td>\n",
       "      <td>--000--</td>\n",
       "    </tr>\n",
       "  </tbody>\n",
       "</table>\n",
       "</div>"
      ],
      "text/plain": [
       "                               item_name     value  user_id\n",
       "0                               PAYDAY 2  0.230286  --000--\n",
       "1                                   Rust  0.211344  --000--\n",
       "0                               Unturned  0.267594  --000--\n",
       "1                             Brawlhalla  0.245879  --000--\n",
       "0                              Robocraft  0.281113  --000--\n",
       "1                                  Trove  0.267594  --000--\n",
       "0                        Killing Floor 2  0.326063  --000--\n",
       "1  Killing Floor Mod: Defence Alliance 2  0.325921  --000--\n",
       "0                          Saints Row IV  0.339459  --000--\n",
       "1                           Saints Row 2  0.263086  --000--"
      ]
     },
     "execution_count": 218,
     "metadata": {},
     "output_type": "execute_result"
    }
   ],
   "source": [
    "user_recomendations('--000--', train_data)"
   ]
  },
  {
   "cell_type": "code",
   "execution_count": 219,
   "id": "a1e3b52f-b445-410a-80d1-cf6590ba9815",
   "metadata": {},
   "outputs": [],
   "source": [
    "users = train_data['user_id'].unique()"
   ]
  },
  {
   "cell_type": "code",
   "execution_count": 231,
   "id": "9175f0b8-2224-470a-9899-a442f67161a2",
   "metadata": {},
   "outputs": [],
   "source": [
    "all_recomendations = []\n",
    "for user in users:\n",
    "    recomendations = user_recomendations(user, train_data)\n",
    "    all_recomendations.append(recomendations)"
   ]
  },
  {
   "cell_type": "code",
   "execution_count": 232,
   "id": "adb0bfe5-549c-4c42-a10c-43a5e7679079",
   "metadata": {},
   "outputs": [],
   "source": [
    "all_recomendations = pd.concat(all_recomendations, axis=0)"
   ]
  },
  {
   "cell_type": "code",
   "execution_count": 233,
   "id": "cbc74c9f-88d4-4006-902d-4d84005e85d2",
   "metadata": {},
   "outputs": [],
   "source": [
    "matches = pd.merge(all_recomendations, test_data, on=['user_id', 'item_name'])\n",
    "accuracy = len(matches)/len(all_recomendations)"
   ]
  },
  {
   "cell_type": "code",
   "execution_count": 235,
   "id": "2a051a2a-66b2-4f86-b39e-a37ecf8898cd",
   "metadata": {},
   "outputs": [
    {
     "data": {
      "text/plain": [
       "10.073014964021612"
      ]
     },
     "execution_count": 235,
     "metadata": {},
     "output_type": "execute_result"
    }
   ],
   "source": [
    "accuracy *100"
   ]
  },
  {
   "cell_type": "code",
   "execution_count": 238,
   "id": "3bec254a-3878-42e6-bea0-dbf1e77a7144",
   "metadata": {},
   "outputs": [
    {
     "data": {
      "text/plain": [
       "0.5793817482620914"
      ]
     },
     "execution_count": 238,
     "metadata": {},
     "output_type": "execute_result"
    }
   ],
   "source": [
    "len(matches['user_id'].unique())/len(users)"
   ]
  }
 ],
 "metadata": {
  "kernelspec": {
   "display_name": "Python 3 (ipykernel)",
   "language": "python",
   "name": "python3"
  },
  "language_info": {
   "codemirror_mode": {
    "name": "ipython",
    "version": 3
   },
   "file_extension": ".py",
   "mimetype": "text/x-python",
   "name": "python",
   "nbconvert_exporter": "python",
   "pygments_lexer": "ipython3",
   "version": "3.10.0"
  }
 },
 "nbformat": 4,
 "nbformat_minor": 5
}
